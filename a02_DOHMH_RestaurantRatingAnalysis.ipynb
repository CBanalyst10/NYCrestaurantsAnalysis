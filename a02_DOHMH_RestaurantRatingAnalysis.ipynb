{
 "cells": [
  {
   "cell_type": "code",
   "execution_count": 209,
   "id": "focused-chapter",
   "metadata": {},
   "outputs": [],
   "source": [
    "# Module import section\n",
    "import numpy as np\n",
    "import pandas as pd\n",
    "from os import path\n",
    "from sodapy import Socrata\n",
    "import string\n",
    "from PIL import Image\n",
    "from wordcloud import WordCloud, STOPWORDS, ImageColorGenerator\n",
    "import matplotlib.pyplot as plt\n",
    "import math\n",
    "from scipy import stats\n",
    "\n",
    "%matplotlib inline"
   ]
  },
  {
   "cell_type": "code",
   "execution_count": 276,
   "id": "greenhouse-andrews",
   "metadata": {},
   "outputs": [],
   "source": [
    "# Set ipython's max row display\n",
    "pd.set_option('display.max_row', 10000)\n",
    "\n",
    "# Set iPython's max column width to 50\n",
    "pd.set_option('display.max_columns', 50)"
   ]
  },
  {
   "cell_type": "code",
   "execution_count": 167,
   "id": "featured-retro",
   "metadata": {},
   "outputs": [
    {
     "name": "stderr",
     "output_type": "stream",
     "text": [
      "WARNING:root:Requests made without an app_token will be subject to strict throttling limits.\n"
     ]
    },
    {
     "name": "stdout",
     "output_type": "stream",
     "text": [
      "(20000, 26)\n"
     ]
    }
   ],
   "source": [
    "# API pull section\n",
    "nyc_domain = \"data.cityofnewyork.us\"\n",
    "nyc_dataset_identifier = \"43nn-pn8j\"\n",
    "nyc_client = Socrata(nyc_domain, None)\n",
    "# In final version replace with limit = 396239\n",
    "nyc_results = nyc_client.get(nyc_dataset_identifier, limit = 20000)\n",
    "restdata = pd.DataFrame.from_dict(nyc_results)\n",
    "print(restdata.shape)"
   ]
  },
  {
   "cell_type": "code",
   "execution_count": 212,
   "id": "connected-yesterday",
   "metadata": {},
   "outputs": [
    {
     "data": {
      "text/html": [
       "<div>\n",
       "<style scoped>\n",
       "    .dataframe tbody tr th:only-of-type {\n",
       "        vertical-align: middle;\n",
       "    }\n",
       "\n",
       "    .dataframe tbody tr th {\n",
       "        vertical-align: top;\n",
       "    }\n",
       "\n",
       "    .dataframe thead th {\n",
       "        text-align: right;\n",
       "    }\n",
       "</style>\n",
       "<table border=\"1\" class=\"dataframe\">\n",
       "  <thead>\n",
       "    <tr style=\"text-align: right;\">\n",
       "      <th></th>\n",
       "      <th>camis</th>\n",
       "      <th>dba</th>\n",
       "      <th>boro</th>\n",
       "      <th>building</th>\n",
       "      <th>street</th>\n",
       "      <th>zipcode</th>\n",
       "      <th>phone</th>\n",
       "      <th>cuisine_description</th>\n",
       "      <th>inspection_date</th>\n",
       "      <th>action</th>\n",
       "      <th>violation_code</th>\n",
       "      <th>violation_description</th>\n",
       "      <th>critical_flag</th>\n",
       "      <th>score</th>\n",
       "      <th>grade</th>\n",
       "      <th>grade_date</th>\n",
       "      <th>record_date</th>\n",
       "      <th>inspection_type</th>\n",
       "      <th>latitude</th>\n",
       "      <th>longitude</th>\n",
       "      <th>community_board</th>\n",
       "      <th>council_district</th>\n",
       "      <th>census_tract</th>\n",
       "      <th>bin</th>\n",
       "      <th>bbl</th>\n",
       "      <th>nta</th>\n",
       "      <th>gradeval</th>\n",
       "    </tr>\n",
       "  </thead>\n",
       "  <tbody>\n",
       "    <tr>\n",
       "      <th>0</th>\n",
       "      <td>40827432</td>\n",
       "      <td>STARBUCKS</td>\n",
       "      <td>Manhattan</td>\n",
       "      <td>787</td>\n",
       "      <td>7 AVENUE</td>\n",
       "      <td>10019</td>\n",
       "      <td>2122456479</td>\n",
       "      <td>Café/Coffee/Tea</td>\n",
       "      <td>2018-05-25T00:00:00.000</td>\n",
       "      <td>Violations were cited in the following area(s).</td>\n",
       "      <td>10J</td>\n",
       "      <td>\"\"Wash hands” sign not posted at hand wash fac...</td>\n",
       "      <td>N</td>\n",
       "      <td>12</td>\n",
       "      <td>A</td>\n",
       "      <td>2018-05-25T00:00:00.000</td>\n",
       "      <td>2021-02-25T06:01:33.000</td>\n",
       "      <td>Cycle Inspection / Initial Inspection</td>\n",
       "      <td>40.761948488597</td>\n",
       "      <td>-73.982622296463</td>\n",
       "      <td>105</td>\n",
       "      <td>04</td>\n",
       "      <td>013100</td>\n",
       "      <td>1023157</td>\n",
       "      <td>1010040020</td>\n",
       "      <td>MN17</td>\n",
       "      <td>3</td>\n",
       "    </tr>\n",
       "    <tr>\n",
       "      <th>1</th>\n",
       "      <td>50049617</td>\n",
       "      <td>BAKERY MOCANA</td>\n",
       "      <td>Manhattan</td>\n",
       "      <td>1540</td>\n",
       "      <td>SAINT NICHOLAS AVENUE</td>\n",
       "      <td>10040</td>\n",
       "      <td>2127401190</td>\n",
       "      <td>Cakes, Cupcakes, Desserts</td>\n",
       "      <td>2019-12-11T00:00:00.000</td>\n",
       "      <td>Violations were cited in the following area(s).</td>\n",
       "      <td>06A</td>\n",
       "      <td>Personal cleanliness inadequate. Outer garment...</td>\n",
       "      <td>Y</td>\n",
       "      <td>8</td>\n",
       "      <td>A</td>\n",
       "      <td>2019-12-11T00:00:00.000</td>\n",
       "      <td>2021-02-25T06:01:33.000</td>\n",
       "      <td>Cycle Inspection / Initial Inspection</td>\n",
       "      <td>40.853147917059</td>\n",
       "      <td>-73.930914032652</td>\n",
       "      <td>112</td>\n",
       "      <td>10</td>\n",
       "      <td>026900</td>\n",
       "      <td>1063806</td>\n",
       "      <td>1021580001</td>\n",
       "      <td>MN35</td>\n",
       "      <td>3</td>\n",
       "    </tr>\n",
       "    <tr>\n",
       "      <th>2</th>\n",
       "      <td>41690824</td>\n",
       "      <td>UNION GROUNDS</td>\n",
       "      <td>Brooklyn</td>\n",
       "      <td>270</td>\n",
       "      <td>SMITH STREET</td>\n",
       "      <td>11231</td>\n",
       "      <td>3477631935</td>\n",
       "      <td>American</td>\n",
       "      <td>2018-07-10T00:00:00.000</td>\n",
       "      <td>Violations were cited in the following area(s).</td>\n",
       "      <td>04H</td>\n",
       "      <td>Raw, cooked or prepared food is adulterated, c...</td>\n",
       "      <td>Y</td>\n",
       "      <td>25</td>\n",
       "      <td>B</td>\n",
       "      <td>2018-07-10T00:00:00.000</td>\n",
       "      <td>2021-02-25T06:01:33.000</td>\n",
       "      <td>Cycle Inspection / Re-inspection</td>\n",
       "      <td>40.682614864632</td>\n",
       "      <td>-73.993257686691</td>\n",
       "      <td>306</td>\n",
       "      <td>39</td>\n",
       "      <td>007500</td>\n",
       "      <td>3006840</td>\n",
       "      <td>3004210038</td>\n",
       "      <td>BK33</td>\n",
       "      <td>2</td>\n",
       "    </tr>\n",
       "    <tr>\n",
       "      <th>3</th>\n",
       "      <td>50045884</td>\n",
       "      <td>TAQUERIA DIANA</td>\n",
       "      <td>Manhattan</td>\n",
       "      <td>524</td>\n",
       "      <td>9 AVENUE</td>\n",
       "      <td>10018</td>\n",
       "      <td>6466844541</td>\n",
       "      <td>Mexican</td>\n",
       "      <td>2018-05-30T00:00:00.000</td>\n",
       "      <td>Violations were cited in the following area(s).</td>\n",
       "      <td>06C</td>\n",
       "      <td>Food not protected from potential source of co...</td>\n",
       "      <td>Y</td>\n",
       "      <td>7</td>\n",
       "      <td>A</td>\n",
       "      <td>2018-05-30T00:00:00.000</td>\n",
       "      <td>2021-02-25T06:01:33.000</td>\n",
       "      <td>Cycle Inspection / Re-inspection</td>\n",
       "      <td>40.756608343883</td>\n",
       "      <td>-73.993939589546</td>\n",
       "      <td>104</td>\n",
       "      <td>03</td>\n",
       "      <td>011500</td>\n",
       "      <td>1013674</td>\n",
       "      <td>1007630001</td>\n",
       "      <td>MN15</td>\n",
       "      <td>3</td>\n",
       "    </tr>\n",
       "    <tr>\n",
       "      <th>4</th>\n",
       "      <td>50076583</td>\n",
       "      <td>SZECHUAN GARDEN</td>\n",
       "      <td>Manhattan</td>\n",
       "      <td>239</td>\n",
       "      <td>WEST  105 STREET</td>\n",
       "      <td>10025</td>\n",
       "      <td>2128658808</td>\n",
       "      <td>Chinese</td>\n",
       "      <td>2019-06-12T00:00:00.000</td>\n",
       "      <td>Violations were cited in the following area(s).</td>\n",
       "      <td>05D</td>\n",
       "      <td>Hand washing facility not provided in or near ...</td>\n",
       "      <td>Y</td>\n",
       "      <td>43</td>\n",
       "      <td>C</td>\n",
       "      <td>2019-06-12T00:00:00.000</td>\n",
       "      <td>2021-02-25T06:01:33.000</td>\n",
       "      <td>Cycle Inspection / Re-inspection</td>\n",
       "      <td>40.800270167358</td>\n",
       "      <td>-73.967409713917</td>\n",
       "      <td>107</td>\n",
       "      <td>07</td>\n",
       "      <td>019100</td>\n",
       "      <td>1056609</td>\n",
       "      <td>1018770016</td>\n",
       "      <td>MN12</td>\n",
       "      <td>1</td>\n",
       "    </tr>\n",
       "  </tbody>\n",
       "</table>\n",
       "</div>"
      ],
      "text/plain": [
       "      camis              dba       boro building                 street  \\\n",
       "0  40827432        STARBUCKS  Manhattan      787               7 AVENUE   \n",
       "1  50049617    BAKERY MOCANA  Manhattan     1540  SAINT NICHOLAS AVENUE   \n",
       "2  41690824    UNION GROUNDS   Brooklyn      270           SMITH STREET   \n",
       "3  50045884   TAQUERIA DIANA  Manhattan      524               9 AVENUE   \n",
       "4  50076583  SZECHUAN GARDEN  Manhattan      239       WEST  105 STREET   \n",
       "\n",
       "  zipcode       phone        cuisine_description          inspection_date  \\\n",
       "0   10019  2122456479            Café/Coffee/Tea  2018-05-25T00:00:00.000   \n",
       "1   10040  2127401190  Cakes, Cupcakes, Desserts  2019-12-11T00:00:00.000   \n",
       "2   11231  3477631935                   American  2018-07-10T00:00:00.000   \n",
       "3   10018  6466844541                    Mexican  2018-05-30T00:00:00.000   \n",
       "4   10025  2128658808                    Chinese  2019-06-12T00:00:00.000   \n",
       "\n",
       "                                            action violation_code  \\\n",
       "0  Violations were cited in the following area(s).            10J   \n",
       "1  Violations were cited in the following area(s).            06A   \n",
       "2  Violations were cited in the following area(s).            04H   \n",
       "3  Violations were cited in the following area(s).            06C   \n",
       "4  Violations were cited in the following area(s).            05D   \n",
       "\n",
       "                               violation_description critical_flag score  \\\n",
       "0  \"\"Wash hands” sign not posted at hand wash fac...             N    12   \n",
       "1  Personal cleanliness inadequate. Outer garment...             Y     8   \n",
       "2  Raw, cooked or prepared food is adulterated, c...             Y    25   \n",
       "3  Food not protected from potential source of co...             Y     7   \n",
       "4  Hand washing facility not provided in or near ...             Y    43   \n",
       "\n",
       "  grade               grade_date              record_date  \\\n",
       "0     A  2018-05-25T00:00:00.000  2021-02-25T06:01:33.000   \n",
       "1     A  2019-12-11T00:00:00.000  2021-02-25T06:01:33.000   \n",
       "2     B  2018-07-10T00:00:00.000  2021-02-25T06:01:33.000   \n",
       "3     A  2018-05-30T00:00:00.000  2021-02-25T06:01:33.000   \n",
       "4     C  2019-06-12T00:00:00.000  2021-02-25T06:01:33.000   \n",
       "\n",
       "                         inspection_type         latitude         longitude  \\\n",
       "0  Cycle Inspection / Initial Inspection  40.761948488597  -73.982622296463   \n",
       "1  Cycle Inspection / Initial Inspection  40.853147917059  -73.930914032652   \n",
       "2       Cycle Inspection / Re-inspection  40.682614864632  -73.993257686691   \n",
       "3       Cycle Inspection / Re-inspection  40.756608343883  -73.993939589546   \n",
       "4       Cycle Inspection / Re-inspection  40.800270167358  -73.967409713917   \n",
       "\n",
       "  community_board council_district census_tract      bin         bbl   nta  \\\n",
       "0             105               04       013100  1023157  1010040020  MN17   \n",
       "1             112               10       026900  1063806  1021580001  MN35   \n",
       "2             306               39       007500  3006840  3004210038  BK33   \n",
       "3             104               03       011500  1013674  1007630001  MN15   \n",
       "4             107               07       019100  1056609  1018770016  MN12   \n",
       "\n",
       "   gradeval  \n",
       "0         3  \n",
       "1         3  \n",
       "2         2  \n",
       "3         3  \n",
       "4         1  "
      ]
     },
     "execution_count": 212,
     "metadata": {},
     "output_type": "execute_result"
    }
   ],
   "source": [
    "# Data cleaning and enhancement cell\n",
    "restdata['violation_description'] = restdata['violation_description'].fillna(\"\")\n",
    "restdata['action'] = restdata['action'].fillna(\"\")\n",
    "restdata['violation_code'] = restdata['violation_code'].fillna(\"\")\n",
    "# create a list of our conditions\n",
    "conditions = [\n",
    "    (restdata['grade'] == 'A'),\n",
    "    (restdata['grade'] == 'B'),\n",
    "    (restdata['grade'] == 'C'),\n",
    "    ((restdata['grade'] != 'A') & (restdata['grade'] != 'B') & (restdata['grade'] != 'C'))\n",
    "    ]\n",
    "# create a list of the values we want to assign for each condition\n",
    "values = [3, 2, 1, 0]\n",
    "# create a new column and use np.select to assign values to it using our lists as arguments\n",
    "restdata['gradeval'] = np.select(conditions, values)\n",
    "# display updated DataFrame\n",
    "restdata.head()"
   ]
  },
  {
   "cell_type": "code",
   "execution_count": 200,
   "id": "parental-california",
   "metadata": {},
   "outputs": [
    {
     "data": {
      "text/plain": [
       "0        12\n",
       "1         8\n",
       "2        25\n",
       "3         7\n",
       "4        43\n",
       "         ..\n",
       "19995    60\n",
       "19996    20\n",
       "19997     8\n",
       "19998     7\n",
       "19999    12\n",
       "Name: score, Length: 19051, dtype: int64"
      ]
     },
     "execution_count": 200,
     "metadata": {},
     "output_type": "execute_result"
    }
   ],
   "source": [
    "restdata[restdata['score'].notna()]['score'].astype(int)"
   ]
  },
  {
   "cell_type": "code",
   "execution_count": 171,
   "id": "knowing-nirvana",
   "metadata": {},
   "outputs": [
    {
     "data": {
      "text/plain": [
       "12    1862\n",
       "13    1473\n",
       "10     956\n",
       "11     918\n",
       "9      876\n",
       "7      636\n",
       "8      329\n",
       "5      278\n",
       "4      194\n",
       "2      183\n",
       "6      119\n",
       "3       95\n",
       "0       28\n",
       "17       1\n",
       "Name: score, dtype: int64"
      ]
     },
     "execution_count": 171,
     "metadata": {},
     "output_type": "execute_result"
    }
   ],
   "source": [
    "restdata[restdata['grade']=='A']['score'].value_counts()"
   ]
  },
  {
   "cell_type": "markdown",
   "id": "ambient-nerve",
   "metadata": {},
   "source": [
    "Any time a field of what should be ints displays as floats, there are NaN values in the column."
   ]
  },
  {
   "cell_type": "code",
   "execution_count": 7,
   "id": "regional-coast",
   "metadata": {},
   "outputs": [
    {
     "data": {
      "text/plain": [
       "array(['American', 'Caribbean (Inc. Cuban, Puerto Rican)',\n",
       "       'Café/Coffee/Tea', 'Pizza', 'Indian', 'Japanese', 'Chinese',\n",
       "       'Eastern European', 'Italian', 'Thai', 'Irish', 'Mexican',\n",
       "       'Donuts', 'Korean', 'Spanish', 'Peruvian', 'Continental',\n",
       "       'Latin American (Central and South America)', 'Tex-Mex', 'French',\n",
       "       'Juice, Smoothies, Fruit Salads',\n",
       "       'Ice Cream, Gelato, Yogurt, Ices', 'Asian', 'Russian',\n",
       "       'Cakes, Cupcakes, Desserts', 'Sandwiches', 'Hawaiian', 'Other',\n",
       "       'Jewish/Kosher', 'Afghan', 'Bagels/Pretzels', 'Steak', 'Chicken',\n",
       "       'African', 'Chinese/Cuban', 'Turkish', 'Vegetarian', 'Hamburgers',\n",
       "       'Vietnamese/Cambodian/Malaysia', 'Barbecue',\n",
       "       'Sandwiches/Salads/Mixed Buffet', 'Mediterranean', 'Bangladeshi',\n",
       "       'Creole', 'German', 'Californian', 'Not Listed/Not Applicable',\n",
       "       'English', 'Pancakes/Waffles', 'Middle Eastern', 'Soul Food'],\n",
       "      dtype=object)"
      ]
     },
     "execution_count": 7,
     "metadata": {},
     "output_type": "execute_result"
    }
   ],
   "source": [
    "restdata.cuisine_description.unique()"
   ]
  },
  {
   "cell_type": "code",
   "execution_count": 277,
   "id": "pursuant-court",
   "metadata": {},
   "outputs": [
    {
     "data": {
      "text/plain": [
       "array(['Violations were cited in the following area(s).',\n",
       "       'Establishment Closed by DOHMH.  Violations were cited in the following area(s) and those requiring immediate action were addressed.',\n",
       "       'No violations were recorded at the time of this inspection.',\n",
       "       'Establishment re-opened by DOHMH', '',\n",
       "       'Establishment re-closed by DOHMH'], dtype=object)"
      ]
     },
     "execution_count": 277,
     "metadata": {},
     "output_type": "execute_result"
    }
   ],
   "source": [
    "restdata.action.unique()"
   ]
  },
  {
   "cell_type": "code",
   "execution_count": 9,
   "id": "supreme-northeast",
   "metadata": {},
   "outputs": [
    {
     "data": {
      "text/plain": [
       "array(['06B', '04L', '04A', '08A', '08C', '04H', '06C', '06D', '04K',\n",
       "       '02G', '02H', '10D', '06A', '10F', '04M', '10B', '16C', '22F',\n",
       "       '02B', '06F', '10A', '04C', '15L', '04N', '18G', '08B', '05D',\n",
       "       '10H', '', '10E', '09B', '06E', '16B', '20F', '03D', '09C', '03B',\n",
       "       '22G', '10I', '04F', '15F6', '20D', '10J', '16D', '04J', '07A',\n",
       "       '20A'], dtype=object)"
      ]
     },
     "execution_count": 9,
     "metadata": {},
     "output_type": "execute_result"
    }
   ],
   "source": [
    "restdata.violation_code.unique()"
   ]
  },
  {
   "cell_type": "code",
   "execution_count": 10,
   "id": "infrared-dublin",
   "metadata": {},
   "outputs": [
    {
     "data": {
      "text/plain": [
       "array(['Tobacco use, eating, or drinking from open container in food preparation, food storage or dishwashing area observed.',\n",
       "       \"Evidence of mice or live mice present in facility's food and/or non-food areas.\",\n",
       "       'Food Protection Certificate not held by supervisor of food operations.',\n",
       "       'Facility not vermin proof. Harborage or conditions conducive to attracting vermin to the premises and/or allowing vermin to exist.',\n",
       "       'Pesticide use not in accordance with label or applicable laws. Prohibited chemical used/stored. Open bait station used.',\n",
       "       'Raw, cooked or prepared food is adulterated, contaminated, cross-contaminated, or not discarded in accordance with HACCP plan.',\n",
       "       'Food not protected from potential source of contamination during storage, preparation, transportation, display or service.',\n",
       "       'Food contact surface not properly washed, rinsed and sanitized after each use and following any activity when contamination may have occurred.',\n",
       "       \"Evidence of rats or live rats present in facility's food and/or non-food areas.\",\n",
       "       'Cold food item held above 41º F (smoked fish and reduced oxygen packaged foods above 38 ºF) except during necessary preparation.',\n",
       "       'Food not cooled by an approved method whereby the internal product temperature is reduced from 140º F to 70º F or less within 2 hours, and from 70º F to 41º F or less within 4 additional hours.',\n",
       "       'Mechanical or natural ventilation system not provided, improperly installed, in disrepair and/or fails to prevent excessive build-up of grease, heat, steam condensation vapors, odors, smoke, and fumes.',\n",
       "       'Personal cleanliness inadequate. Outer garment soiled with possible contaminant.  Effective hair restraint not worn in an area where food is prepared.',\n",
       "       'Non-food contact surface improperly constructed. Unacceptable material used. Non-food contact surface or equipment improperly maintained and/or not properly sealed, raised, spaced or movable to allow accessibility for cleaning on all sides, above and underneath the unit.',\n",
       "       \"Live roaches present in facility's food and/or non-food areas.\",\n",
       "       'Plumbing not properly installed or maintained; anti-siphonage or backflow prevention device not provided where required; equipment or floor not properly drained; sewage disposal system in disrepair or not functioning properly.',\n",
       "       'Caloric content not posted on menus, menu boards or food tags, in a food service establishment that is 1 of 15 or more outlets operating the same type of business nationally under common ownership or control, or as a franchise or doing business under the same name, for each menu item that is served in portions, the size and content of which are standardized.',\n",
       "       '', 'Hot food item not held at or above 140º F.',\n",
       "       'Wiping cloths soiled or not stored in sanitizing solution.',\n",
       "       'Toilet facility not maintained and provided with toilet paper, waste receptacle and self-closing door.',\n",
       "       'Food worker does not use proper utensil to eliminate bare hand contact with food that will not receive adequate additional heat treatment.',\n",
       "       'Smoke free workplace smoking policy inadequate, not posted, not provided to employees.',\n",
       "       'Filth flies or food/refuse/sewage-associated (FRSA) flies present in facility’s food and/or non-food areas. Filth flies include house flies, little house flies, blow flies, bottle flies and flesh flies. Food/refuse/sewage-associated flies include fruit flies, drain flies and Phorid flies.',\n",
       "       'Manufacture of frozen dessert not authorized on Food Service Establishment permit.',\n",
       "       'Covered garbage receptacle not provided or inadequate, except that garbage receptacle may be uncovered during active use. Garbage storage area not properly constructed or maintained; grinder or compactor dirty.',\n",
       "       'Hand washing facility not provided in or near food preparation area and toilet room. Hot and cold running water at adequate pressure to enable cleanliness of employees not provided at facility. Soap and an acceptable hand-drying device not provided.',\n",
       "       'Proper sanitization not provided for utensil ware washing operation.',\n",
       "       'Accurate thermometer not provided in refrigerated or hot holding equipment.',\n",
       "       'Thawing procedures improper.',\n",
       "       'Sanitized equipment or utensil, including in-use food dispensing utensil, improperly used or stored.',\n",
       "       'The original nutritional fact labels and/or ingredient label for a cooking oil, shortening or margarine or food item sold in bulk, or acceptable manufacturer’s documentation not maintained on site.',\n",
       "       'Current letter grade card not posted.',\n",
       "       'Canned food product observed swollen, leaking or rusted, and not segregated from other consumable food items .',\n",
       "       'Food contact surface not properly maintained.',\n",
       "       'Shellfish not from approved source, improperly tagged/labeled; tags not retained for 90 days.',\n",
       "       'Single service item reused, improperly stored, dispensed; not used when required.',\n",
       "       'Food, food preparation area, food storage area, area used by employees or patrons, contaminated by sewage or liquid waste.',\n",
       "       '“Choking first aid” poster not posted. “Alcohol and pregnancy” warning sign not posted. Resuscitation equipment: exhaled air resuscitation masks (adult & pediatric), latex gloves, sign not posted. Inspection report sign not posted.',\n",
       "       '\"\"Wash hands” sign not posted at hand wash facility.',\n",
       "       'Posted caloric content on the menu(s), menu board(s), food tag(s) or stanchions adjacent to menu boards for drive-through windows deficient, in that the size and/or font for posted calories is not as prominent as the name of the menu item or its price.',\n",
       "       'Appropriately scaled metal stem-type thermometer or thermocouple not provided or used to evaluate temperatures of potentially hazardous foods during cooking, cooling, reheating and holding.',\n",
       "       'Duties of an officer of the Department interfered with or obstructed.',\n",
       "       'Food allergy information poster not conspicuously posted where food is being prepared or processed by food workers.'],\n",
       "      dtype=object)"
      ]
     },
     "execution_count": 10,
     "metadata": {},
     "output_type": "execute_result"
    }
   ],
   "source": [
    "restdata.violation_description.unique()"
   ]
  },
  {
   "cell_type": "code",
   "execution_count": 11,
   "id": "friendly-offering",
   "metadata": {},
   "outputs": [
    {
     "data": {
      "text/plain": [
       "array(['Y', 'N', nan], dtype=object)"
      ]
     },
     "execution_count": 11,
     "metadata": {},
     "output_type": "execute_result"
    }
   ],
   "source": [
    "restdata.critical_flag.unique()"
   ]
  },
  {
   "cell_type": "code",
   "execution_count": 190,
   "id": "outstanding-highway",
   "metadata": {},
   "outputs": [
    {
     "data": {
      "text/plain": [
       "array(['12', '8', '25', '7', '43', '16', '9', '21', '22', '28', '19', nan,\n",
       "       '13', '24', '18', '14', '51', '30', '5', '0', '34', '2', '65',\n",
       "       '10', '45', '17', '82', '11', '27', '40', '-1', '26', '62', '3',\n",
       "       '38', '29', '95', '54', '20', '99', '42', '36', '58', '33', '46',\n",
       "       '23', '4', '31', '119', '15', '39', '37', '32', '47', '52', '35',\n",
       "       '74', '76', '71', '44', '59', '61', '49', '68', '122', '64', '53',\n",
       "       '77', '48', '107', '6', '101', '50', '69', '55', '78', '84', '88',\n",
       "       '56', '41', '85', '111', '73', '93', '57', '67', '63', '80', '94',\n",
       "       '72', '60', '81', '79', '103', '91', '70', '66', '96', '87', '75',\n",
       "       '92', '112', '102', '135', '86', '106', '89', '83', '164', '140',\n",
       "       '90', '150', '117', '124', '129', '136', '120', '98', '141', '116',\n",
       "       '104'], dtype=object)"
      ]
     },
     "execution_count": 190,
     "metadata": {},
     "output_type": "execute_result"
    }
   ],
   "source": [
    "restdata.score.unique()"
   ]
  },
  {
   "cell_type": "code",
   "execution_count": 191,
   "id": "failing-bible",
   "metadata": {},
   "outputs": [
    {
     "data": {
      "text/plain": [
       "array(['A', 'B', 'C', nan, 'Z', 'P', 'N', 'G'], dtype=object)"
      ]
     },
     "execution_count": 191,
     "metadata": {},
     "output_type": "execute_result"
    }
   ],
   "source": [
    "restdata.grade.unique()"
   ]
  },
  {
   "cell_type": "code",
   "execution_count": 14,
   "id": "existing-holiday",
   "metadata": {},
   "outputs": [
    {
     "data": {
      "text/plain": [
       "array(['Cycle Inspection / Initial Inspection',\n",
       "       'Pre-permit (Operational) / Re-inspection',\n",
       "       'Cycle Inspection / Re-inspection',\n",
       "       'Pre-permit (Operational) / Initial Inspection',\n",
       "       'Pre-permit (Operational) / Compliance Inspection',\n",
       "       'Calorie Posting / Initial Inspection',\n",
       "       'Cycle Inspection / Reopening Inspection',\n",
       "       'Smoke-Free Air Act / Initial Inspection',\n",
       "       'Pre-permit (Operational) / Reopening Inspection',\n",
       "       'Administrative Miscellaneous / Initial Inspection',\n",
       "       'Inter-Agency Task Force / Initial Inspection', nan,\n",
       "       'Cycle Inspection / Compliance Inspection',\n",
       "       'Pre-permit (Non-operational) / Initial Inspection',\n",
       "       'Trans Fat / Initial Inspection',\n",
       "       'Administrative Miscellaneous / Re-inspection'], dtype=object)"
      ]
     },
     "execution_count": 14,
     "metadata": {},
     "output_type": "execute_result"
    }
   ],
   "source": [
    "restdata.inspection_type.unique()"
   ]
  },
  {
   "cell_type": "code",
   "execution_count": 278,
   "id": "intellectual-insight",
   "metadata": {},
   "outputs": [
    {
     "data": {
      "text/plain": [
       "array(['Manhattan', 'Brooklyn', 'Staten Island', 'Queens', 'Bronx', '0'],\n",
       "      dtype=object)"
      ]
     },
     "execution_count": 278,
     "metadata": {},
     "output_type": "execute_result"
    }
   ],
   "source": [
    "restdata.boro.unique()"
   ]
  },
  {
   "cell_type": "code",
   "execution_count": 279,
   "id": "genetic-prototype",
   "metadata": {},
   "outputs": [
    {
     "data": {
      "text/html": [
       "<div>\n",
       "<style scoped>\n",
       "    .dataframe tbody tr th:only-of-type {\n",
       "        vertical-align: middle;\n",
       "    }\n",
       "\n",
       "    .dataframe tbody tr th {\n",
       "        vertical-align: top;\n",
       "    }\n",
       "\n",
       "    .dataframe thead th {\n",
       "        text-align: right;\n",
       "    }\n",
       "</style>\n",
       "<table border=\"1\" class=\"dataframe\">\n",
       "  <thead>\n",
       "    <tr style=\"text-align: right;\">\n",
       "      <th></th>\n",
       "      <th>camis</th>\n",
       "      <th>dba</th>\n",
       "      <th>boro</th>\n",
       "      <th>building</th>\n",
       "      <th>street</th>\n",
       "      <th>zipcode</th>\n",
       "      <th>phone</th>\n",
       "      <th>cuisine_description</th>\n",
       "      <th>inspection_date</th>\n",
       "      <th>action</th>\n",
       "      <th>violation_code</th>\n",
       "      <th>violation_description</th>\n",
       "      <th>critical_flag</th>\n",
       "      <th>score</th>\n",
       "      <th>grade</th>\n",
       "      <th>grade_date</th>\n",
       "      <th>record_date</th>\n",
       "      <th>inspection_type</th>\n",
       "      <th>latitude</th>\n",
       "      <th>longitude</th>\n",
       "      <th>community_board</th>\n",
       "      <th>council_district</th>\n",
       "      <th>census_tract</th>\n",
       "      <th>bin</th>\n",
       "      <th>bbl</th>\n",
       "      <th>nta</th>\n",
       "      <th>gradeval</th>\n",
       "    </tr>\n",
       "  </thead>\n",
       "  <tbody>\n",
       "    <tr>\n",
       "      <th>570</th>\n",
       "      <td>41633655</td>\n",
       "      <td>WOODSIDE CAFE RESTAURANT</td>\n",
       "      <td>0</td>\n",
       "      <td>N/A</td>\n",
       "      <td>N/A</td>\n",
       "      <td>N/A</td>\n",
       "      <td>3476423445</td>\n",
       "      <td>Indian</td>\n",
       "      <td>2017-04-17T00:00:00.000</td>\n",
       "      <td>Violations were cited in the following area(s).</td>\n",
       "      <td>10F</td>\n",
       "      <td>Non-food contact surface improperly constructe...</td>\n",
       "      <td>N</td>\n",
       "      <td>7</td>\n",
       "      <td>A</td>\n",
       "      <td>2017-04-17T00:00:00.000</td>\n",
       "      <td>2021-02-25T06:01:33.000</td>\n",
       "      <td>Cycle Inspection / Re-inspection</td>\n",
       "      <td>NaN</td>\n",
       "      <td>NaN</td>\n",
       "      <td>NaN</td>\n",
       "      <td>NaN</td>\n",
       "      <td>NaN</td>\n",
       "      <td>NaN</td>\n",
       "      <td>NaN</td>\n",
       "      <td>NaN</td>\n",
       "      <td>3</td>\n",
       "    </tr>\n",
       "    <tr>\n",
       "      <th>5980</th>\n",
       "      <td>41664706</td>\n",
       "      <td>DELICIAS PIZZA AND CHICKEN</td>\n",
       "      <td>0</td>\n",
       "      <td>14120</td>\n",
       "      <td>HOLLY AVE</td>\n",
       "      <td>NaN</td>\n",
       "      <td>7183535070</td>\n",
       "      <td>Pizza</td>\n",
       "      <td>2019-10-28T00:00:00.000</td>\n",
       "      <td>Violations were cited in the following area(s).</td>\n",
       "      <td>08A</td>\n",
       "      <td>Facility not vermin proof. Harborage or condit...</td>\n",
       "      <td>N</td>\n",
       "      <td>45</td>\n",
       "      <td>C</td>\n",
       "      <td>2019-10-28T00:00:00.000</td>\n",
       "      <td>2021-02-25T06:01:33.000</td>\n",
       "      <td>Cycle Inspection / Re-inspection</td>\n",
       "      <td>NaN</td>\n",
       "      <td>NaN</td>\n",
       "      <td>NaN</td>\n",
       "      <td>NaN</td>\n",
       "      <td>NaN</td>\n",
       "      <td>NaN</td>\n",
       "      <td>NaN</td>\n",
       "      <td>NaN</td>\n",
       "      <td>1</td>\n",
       "    </tr>\n",
       "    <tr>\n",
       "      <th>7499</th>\n",
       "      <td>41669951</td>\n",
       "      <td>YORK COLLEGE CAFETERIA</td>\n",
       "      <td>0</td>\n",
       "      <td>9420</td>\n",
       "      <td>GUY R BREWER BOULEVARD</td>\n",
       "      <td>11451</td>\n",
       "      <td>7182622890</td>\n",
       "      <td>American</td>\n",
       "      <td>2019-09-10T00:00:00.000</td>\n",
       "      <td>Establishment Closed by DOHMH.  Violations wer...</td>\n",
       "      <td>08A</td>\n",
       "      <td>Facility not vermin proof. Harborage or condit...</td>\n",
       "      <td>N</td>\n",
       "      <td>51</td>\n",
       "      <td>NaN</td>\n",
       "      <td>NaN</td>\n",
       "      <td>2021-02-25T06:01:33.000</td>\n",
       "      <td>Cycle Inspection / Initial Inspection</td>\n",
       "      <td>NaN</td>\n",
       "      <td>NaN</td>\n",
       "      <td>NaN</td>\n",
       "      <td>NaN</td>\n",
       "      <td>NaN</td>\n",
       "      <td>NaN</td>\n",
       "      <td>NaN</td>\n",
       "      <td>NaN</td>\n",
       "      <td>0</td>\n",
       "    </tr>\n",
       "    <tr>\n",
       "      <th>8702</th>\n",
       "      <td>41720552</td>\n",
       "      <td>DUNKIN', BASKIN ROBBINS, POPEYES</td>\n",
       "      <td>0</td>\n",
       "      <td>N/A</td>\n",
       "      <td>N/A</td>\n",
       "      <td>N/A</td>\n",
       "      <td>7182576490</td>\n",
       "      <td>American</td>\n",
       "      <td>2017-04-12T00:00:00.000</td>\n",
       "      <td>Violations were cited in the following area(s).</td>\n",
       "      <td>05D</td>\n",
       "      <td>Hand washing facility not provided in or near ...</td>\n",
       "      <td>Y</td>\n",
       "      <td>44</td>\n",
       "      <td>NaN</td>\n",
       "      <td>NaN</td>\n",
       "      <td>2021-02-25T06:01:33.000</td>\n",
       "      <td>Cycle Inspection / Initial Inspection</td>\n",
       "      <td>NaN</td>\n",
       "      <td>NaN</td>\n",
       "      <td>NaN</td>\n",
       "      <td>NaN</td>\n",
       "      <td>NaN</td>\n",
       "      <td>NaN</td>\n",
       "      <td>NaN</td>\n",
       "      <td>NaN</td>\n",
       "      <td>0</td>\n",
       "    </tr>\n",
       "    <tr>\n",
       "      <th>8725</th>\n",
       "      <td>50005059</td>\n",
       "      <td>FREEHOLD</td>\n",
       "      <td>0</td>\n",
       "      <td>45</td>\n",
       "      <td>S 3RD ST</td>\n",
       "      <td>11249</td>\n",
       "      <td>7183887591</td>\n",
       "      <td>American</td>\n",
       "      <td>2018-06-20T00:00:00.000</td>\n",
       "      <td>Violations were cited in the following area(s).</td>\n",
       "      <td>06D</td>\n",
       "      <td>Food contact surface not properly washed, rins...</td>\n",
       "      <td>Y</td>\n",
       "      <td>29</td>\n",
       "      <td>NaN</td>\n",
       "      <td>NaN</td>\n",
       "      <td>2021-02-25T06:01:33.000</td>\n",
       "      <td>Cycle Inspection / Initial Inspection</td>\n",
       "      <td>NaN</td>\n",
       "      <td>NaN</td>\n",
       "      <td>NaN</td>\n",
       "      <td>NaN</td>\n",
       "      <td>NaN</td>\n",
       "      <td>NaN</td>\n",
       "      <td>NaN</td>\n",
       "      <td>NaN</td>\n",
       "      <td>0</td>\n",
       "    </tr>\n",
       "    <tr>\n",
       "      <th>9226</th>\n",
       "      <td>50064306</td>\n",
       "      <td>DYLAN'S CANDY BAR</td>\n",
       "      <td>0</td>\n",
       "      <td>2849</td>\n",
       "      <td>paces ferry rd</td>\n",
       "      <td>30339</td>\n",
       "      <td>7187514247</td>\n",
       "      <td>Other</td>\n",
       "      <td>2018-06-07T00:00:00.000</td>\n",
       "      <td>Violations were cited in the following area(s).</td>\n",
       "      <td>04N</td>\n",
       "      <td>Filth flies or food/refuse/sewage-associated (...</td>\n",
       "      <td>Y</td>\n",
       "      <td>10</td>\n",
       "      <td>A</td>\n",
       "      <td>2018-06-07T00:00:00.000</td>\n",
       "      <td>2021-02-25T06:01:33.000</td>\n",
       "      <td>Cycle Inspection / Initial Inspection</td>\n",
       "      <td>NaN</td>\n",
       "      <td>NaN</td>\n",
       "      <td>NaN</td>\n",
       "      <td>NaN</td>\n",
       "      <td>NaN</td>\n",
       "      <td>NaN</td>\n",
       "      <td>NaN</td>\n",
       "      <td>NaN</td>\n",
       "      <td>3</td>\n",
       "    </tr>\n",
       "  </tbody>\n",
       "</table>\n",
       "</div>"
      ],
      "text/plain": [
       "         camis                               dba boro building  \\\n",
       "570   41633655          WOODSIDE CAFE RESTAURANT    0      N/A   \n",
       "5980  41664706        DELICIAS PIZZA AND CHICKEN    0    14120   \n",
       "7499  41669951            YORK COLLEGE CAFETERIA    0     9420   \n",
       "8702  41720552  DUNKIN', BASKIN ROBBINS, POPEYES    0      N/A   \n",
       "8725  50005059                          FREEHOLD    0       45   \n",
       "9226  50064306                 DYLAN'S CANDY BAR    0     2849   \n",
       "\n",
       "                      street zipcode       phone cuisine_description  \\\n",
       "570                      N/A     N/A  3476423445              Indian   \n",
       "5980               HOLLY AVE     NaN  7183535070               Pizza   \n",
       "7499  GUY R BREWER BOULEVARD   11451  7182622890            American   \n",
       "8702                     N/A     N/A  7182576490            American   \n",
       "8725                S 3RD ST   11249  7183887591            American   \n",
       "9226          paces ferry rd   30339  7187514247               Other   \n",
       "\n",
       "              inspection_date  \\\n",
       "570   2017-04-17T00:00:00.000   \n",
       "5980  2019-10-28T00:00:00.000   \n",
       "7499  2019-09-10T00:00:00.000   \n",
       "8702  2017-04-12T00:00:00.000   \n",
       "8725  2018-06-20T00:00:00.000   \n",
       "9226  2018-06-07T00:00:00.000   \n",
       "\n",
       "                                                 action violation_code  \\\n",
       "570     Violations were cited in the following area(s).            10F   \n",
       "5980    Violations were cited in the following area(s).            08A   \n",
       "7499  Establishment Closed by DOHMH.  Violations wer...            08A   \n",
       "8702    Violations were cited in the following area(s).            05D   \n",
       "8725    Violations were cited in the following area(s).            06D   \n",
       "9226    Violations were cited in the following area(s).            04N   \n",
       "\n",
       "                                  violation_description critical_flag score  \\\n",
       "570   Non-food contact surface improperly constructe...             N     7   \n",
       "5980  Facility not vermin proof. Harborage or condit...             N    45   \n",
       "7499  Facility not vermin proof. Harborage or condit...             N    51   \n",
       "8702  Hand washing facility not provided in or near ...             Y    44   \n",
       "8725  Food contact surface not properly washed, rins...             Y    29   \n",
       "9226  Filth flies or food/refuse/sewage-associated (...             Y    10   \n",
       "\n",
       "     grade               grade_date              record_date  \\\n",
       "570      A  2017-04-17T00:00:00.000  2021-02-25T06:01:33.000   \n",
       "5980     C  2019-10-28T00:00:00.000  2021-02-25T06:01:33.000   \n",
       "7499   NaN                      NaN  2021-02-25T06:01:33.000   \n",
       "8702   NaN                      NaN  2021-02-25T06:01:33.000   \n",
       "8725   NaN                      NaN  2021-02-25T06:01:33.000   \n",
       "9226     A  2018-06-07T00:00:00.000  2021-02-25T06:01:33.000   \n",
       "\n",
       "                            inspection_type latitude longitude  \\\n",
       "570        Cycle Inspection / Re-inspection      NaN       NaN   \n",
       "5980       Cycle Inspection / Re-inspection      NaN       NaN   \n",
       "7499  Cycle Inspection / Initial Inspection      NaN       NaN   \n",
       "8702  Cycle Inspection / Initial Inspection      NaN       NaN   \n",
       "8725  Cycle Inspection / Initial Inspection      NaN       NaN   \n",
       "9226  Cycle Inspection / Initial Inspection      NaN       NaN   \n",
       "\n",
       "     community_board council_district census_tract  bin  bbl  nta  gradeval  \n",
       "570              NaN              NaN          NaN  NaN  NaN  NaN         3  \n",
       "5980             NaN              NaN          NaN  NaN  NaN  NaN         1  \n",
       "7499             NaN              NaN          NaN  NaN  NaN  NaN         0  \n",
       "8702             NaN              NaN          NaN  NaN  NaN  NaN         0  \n",
       "8725             NaN              NaN          NaN  NaN  NaN  NaN         0  \n",
       "9226             NaN              NaN          NaN  NaN  NaN  NaN         3  "
      ]
     },
     "execution_count": 279,
     "metadata": {},
     "output_type": "execute_result"
    }
   ],
   "source": [
    "restdata[restdata['boro'] == '0']"
   ]
  },
  {
   "cell_type": "markdown",
   "id": "rural-interaction",
   "metadata": {},
   "source": [
    "### Data Fields Summary:\n",
    "Columns often have NaNs, but the data is relatively clean. There is some overlap in cuisine types when considering some unique categories contain elements shared in other categories, for example Chinese, Chinese/Japanese, Chinese/Cuban, Japanese, and Asian.\n",
    "\n",
    "There is a data dictionary some items still aren't described, such as violation code. Others are described differently than they appear in the data, such as critical flag.\n",
    "\n",
    "There are a variety of violation descriptions. What looked to be diverse enough to be human-written seems to be procedurally written for consistency by a wide array of possible results. Although many are related to vermin, filth, and inmproper facilities as expected some are related to staff behavior, such as use of tobacco on cooking premises."
   ]
  },
  {
   "cell_type": "markdown",
   "id": "constant-extraction",
   "metadata": {},
   "source": [
    "### Columns Analysis\n",
    "1) Find ratios of each health score and grade.\n",
    "2) Find ratios of number of restaurants per cuisine type and across borough.\n",
    "3) Perform word count analysis on flattened arrays for violation and cuisine description."
   ]
  },
  {
   "cell_type": "markdown",
   "id": "supposed-boating",
   "metadata": {},
   "source": [
    "### Numeric Analysis and Hypothesis\n",
    "#### Hypothesis\n",
    "Does it really matter which restaurant you eat in, when considering borough or cuisine type? Check to see if there is a significant variance as cause for concern. Find distributions for analysis across multiple categories. Good candidates: Chi-squared and Kruskal-Wallis H-test."
   ]
  },
  {
   "cell_type": "code",
   "execution_count": 16,
   "id": "blank-section",
   "metadata": {},
   "outputs": [
    {
     "data": {
      "text/plain": [
       "camis                    491\n",
       "dba                      482\n",
       "boro                       5\n",
       "building                 442\n",
       "street                   300\n",
       "zipcode                  140\n",
       "phone                    491\n",
       "cuisine_description       51\n",
       "inspection_date          380\n",
       "action                     6\n",
       "violation_code            47\n",
       "violation_description     44\n",
       "critical_flag              2\n",
       "score                     64\n",
       "grade                      6\n",
       "grade_date               220\n",
       "record_date                3\n",
       "inspection_type           15\n",
       "latitude                 480\n",
       "longitude                480\n",
       "community_board           61\n",
       "council_district          51\n",
       "census_tract             306\n",
       "bin                      471\n",
       "bbl                      477\n",
       "nta                      140\n",
       "dtype: int64"
      ]
     },
     "execution_count": 16,
     "metadata": {},
     "output_type": "execute_result"
    }
   ],
   "source": [
    "restdata.nunique(axis=0) "
   ]
  },
  {
   "cell_type": "code",
   "execution_count": 189,
   "id": "dried-middle",
   "metadata": {},
   "outputs": [
    {
     "data": {
      "text/plain": [
       "score\n",
       "-1       47\n",
       "0        86\n",
       "10     1029\n",
       "101       2\n",
       "102       2\n",
       "103       3\n",
       "104       1\n",
       "106       1\n",
       "107       1\n",
       "11      994\n",
       "111       2\n",
       "112       3\n",
       "116       1\n",
       "117       3\n",
       "119       1\n",
       "12     1931\n",
       "120       1\n",
       "122       1\n",
       "124       1\n",
       "129       1\n",
       "13     1503\n",
       "135       1\n",
       "136       1\n",
       "14      235\n",
       "140       1\n",
       "141       1\n",
       "15      270\n",
       "150       1\n",
       "16      309\n",
       "164       2\n",
       "17      435\n",
       "18      425\n",
       "19      466\n",
       "2       241\n",
       "20      498\n",
       "21      424\n",
       "22      426\n",
       "23      391\n",
       "24      380\n",
       "25      391\n",
       "26      332\n",
       "27      375\n",
       "28      231\n",
       "29      235\n",
       "3       113\n",
       "30      220\n",
       "31      171\n",
       "32      162\n",
       "33      154\n",
       "34      153\n",
       "35      147\n",
       "36      107\n",
       "37      133\n",
       "38      119\n",
       "39      107\n",
       "4       220\n",
       "40      132\n",
       "41       81\n",
       "42      104\n",
       "43       75\n",
       "44       72\n",
       "45       99\n",
       "46       59\n",
       "47       80\n",
       "48       54\n",
       "49       71\n",
       "5       308\n",
       "50       70\n",
       "51       46\n",
       "52       47\n",
       "53       46\n",
       "54       50\n",
       "55       39\n",
       "56       42\n",
       "57       32\n",
       "58       41\n",
       "59       29\n",
       "6       132\n",
       "60       24\n",
       "61       29\n",
       "62       18\n",
       "63       18\n",
       "64       24\n",
       "65       18\n",
       "66       20\n",
       "67        8\n",
       "68       16\n",
       "69       10\n",
       "7       686\n",
       "70       14\n",
       "71       12\n",
       "72       14\n",
       "73       16\n",
       "74       11\n",
       "75       10\n",
       "76       12\n",
       "77        5\n",
       "78        7\n",
       "79        6\n",
       "8       348\n",
       "80        9\n",
       "81        8\n",
       "82        1\n",
       "83        5\n",
       "84        7\n",
       "85        3\n",
       "86        4\n",
       "87        4\n",
       "88        3\n",
       "89        3\n",
       "9       945\n",
       "90        3\n",
       "91        2\n",
       "92        2\n",
       "93        2\n",
       "94        4\n",
       "95        1\n",
       "96        4\n",
       "98        2\n",
       "99        6\n",
       "Name: camis, dtype: int64"
      ]
     },
     "execution_count": 189,
     "metadata": {},
     "output_type": "execute_result"
    }
   ],
   "source": [
    "restdata.groupby('score')['camis'].nunique()"
   ]
  },
  {
   "cell_type": "code",
   "execution_count": 226,
   "id": "appointed-valuable",
   "metadata": {},
   "outputs": [
    {
     "data": {
      "text/plain": [
       "gradeval\n",
       "0    7321\n",
       "1     461\n",
       "2    1191\n",
       "3    6734\n",
       "Name: camis, dtype: int64"
      ]
     },
     "execution_count": 226,
     "metadata": {},
     "output_type": "execute_result"
    }
   ],
   "source": [
    "restdata.groupby('gradeval')['camis'].nunique()"
   ]
  },
  {
   "cell_type": "code",
   "execution_count": 228,
   "id": "fundamental-blocking",
   "metadata": {},
   "outputs": [
    {
     "data": {
      "text/plain": [
       "boro\n",
       "Bronx            1150\n",
       "Brooklyn         3140\n",
       "Manhattan        4919\n",
       "Queens           2851\n",
       "Staten Island     410\n",
       "Name: camis, dtype: int64"
      ]
     },
     "execution_count": 228,
     "metadata": {},
     "output_type": "execute_result"
    }
   ],
   "source": [
    "restdata.groupby('boro')['camis'].nunique().drop(labels='0')"
   ]
  },
  {
   "cell_type": "code",
   "execution_count": 17,
   "id": "russian-prize",
   "metadata": {},
   "outputs": [
    {
     "data": {
      "text/plain": [
       "cuisine_description\n",
       "Afghan                                          1\n",
       "African                                         1\n",
       "American                                      105\n",
       "Asian                                           8\n",
       "Bagels/Pretzels                                 2\n",
       "Bangladeshi                                     3\n",
       "Barbecue                                        3\n",
       "Café/Coffee/Tea                                29\n",
       "Cakes, Cupcakes, Desserts                      15\n",
       "Californian                                     1\n",
       "Caribbean (Inc. Cuban, Puerto Rican)           23\n",
       "Chicken                                         8\n",
       "Chinese                                        53\n",
       "Chinese/Cuban                                   2\n",
       "Continental                                     4\n",
       "Creole                                          1\n",
       "Donuts                                          2\n",
       "Eastern European                                2\n",
       "English                                         1\n",
       "French                                          8\n",
       "German                                          1\n",
       "Hamburgers                                      4\n",
       "Hawaiian                                        3\n",
       "Ice Cream, Gelato, Yogurt, Ices                 5\n",
       "Indian                                          7\n",
       "Irish                                           4\n",
       "Italian                                        18\n",
       "Japanese                                       26\n",
       "Jewish/Kosher                                   8\n",
       "Juice, Smoothies, Fruit Salads                  7\n",
       "Korean                                          5\n",
       "Latin American (Central and South America)     19\n",
       "Mediterranean                                   4\n",
       "Mexican                                        20\n",
       "Middle Eastern                                  1\n",
       "Not Listed/Not Applicable                       1\n",
       "Other                                           4\n",
       "Pancakes/Waffles                                1\n",
       "Peruvian                                        3\n",
       "Pizza                                          30\n",
       "Russian                                         2\n",
       "Sandwiches                                      7\n",
       "Sandwiches/Salads/Mixed Buffet                  5\n",
       "Soul Food                                       1\n",
       "Spanish                                        18\n",
       "Steak                                           3\n",
       "Tex-Mex                                         2\n",
       "Thai                                            4\n",
       "Turkish                                         2\n",
       "Vegetarian                                      3\n",
       "Vietnamese/Cambodian/Malaysia                   1\n",
       "Name: camis, dtype: int64"
      ]
     },
     "execution_count": 17,
     "metadata": {},
     "output_type": "execute_result"
    }
   ],
   "source": [
    "restdata.groupby('cuisine_description')['camis'].nunique()"
   ]
  },
  {
   "cell_type": "code",
   "execution_count": 18,
   "id": "speaking-authority",
   "metadata": {},
   "outputs": [
    {
     "data": {
      "text/plain": [
       "cuisine_description\n",
       "Afghan                                        0.002\n",
       "African                                       0.002\n",
       "American                                      0.210\n",
       "Asian                                         0.016\n",
       "Bagels/Pretzels                               0.004\n",
       "Bangladeshi                                   0.006\n",
       "Barbecue                                      0.006\n",
       "Café/Coffee/Tea                               0.058\n",
       "Cakes, Cupcakes, Desserts                     0.030\n",
       "Californian                                   0.002\n",
       "Caribbean (Inc. Cuban, Puerto Rican)          0.046\n",
       "Chicken                                       0.016\n",
       "Chinese                                       0.106\n",
       "Chinese/Cuban                                 0.004\n",
       "Continental                                   0.008\n",
       "Creole                                        0.002\n",
       "Donuts                                        0.004\n",
       "Eastern European                              0.004\n",
       "English                                       0.002\n",
       "French                                        0.016\n",
       "German                                        0.002\n",
       "Hamburgers                                    0.008\n",
       "Hawaiian                                      0.006\n",
       "Ice Cream, Gelato, Yogurt, Ices               0.010\n",
       "Indian                                        0.014\n",
       "Irish                                         0.008\n",
       "Italian                                       0.036\n",
       "Japanese                                      0.052\n",
       "Jewish/Kosher                                 0.016\n",
       "Juice, Smoothies, Fruit Salads                0.014\n",
       "Korean                                        0.010\n",
       "Latin American (Central and South America)    0.038\n",
       "Mediterranean                                 0.008\n",
       "Mexican                                       0.040\n",
       "Middle Eastern                                0.002\n",
       "Not Listed/Not Applicable                     0.002\n",
       "Other                                         0.008\n",
       "Pancakes/Waffles                              0.002\n",
       "Peruvian                                      0.006\n",
       "Pizza                                         0.060\n",
       "Russian                                       0.004\n",
       "Sandwiches                                    0.014\n",
       "Sandwiches/Salads/Mixed Buffet                0.010\n",
       "Soul Food                                     0.002\n",
       "Spanish                                       0.036\n",
       "Steak                                         0.006\n",
       "Tex-Mex                                       0.004\n",
       "Thai                                          0.008\n",
       "Turkish                                       0.004\n",
       "Vegetarian                                    0.006\n",
       "Vietnamese/Cambodian/Malaysia                 0.002\n",
       "Name: camis, dtype: float64"
      ]
     },
     "execution_count": 18,
     "metadata": {},
     "output_type": "execute_result"
    }
   ],
   "source": [
    "restdata.groupby('cuisine_description')['camis'].nunique()/len(restdata.index)"
   ]
  },
  {
   "cell_type": "code",
   "execution_count": 259,
   "id": "removed-eating",
   "metadata": {},
   "outputs": [
    {
     "data": {
      "text/plain": [
       "cuisine_description\n",
       "American                                                   0.13055\n",
       "Chinese                                                    0.06050\n",
       "Pizza                                                      0.04065\n",
       "Café/Coffee/Tea                                            0.03500\n",
       "Italian                                                    0.02570\n",
       "Latin American (Central and South America)                 0.02545\n",
       "Mexican                                                    0.02415\n",
       "Japanese                                                   0.02225\n",
       "Caribbean (Inc. Cuban, Puerto Rican)                       0.01955\n",
       "Cakes, Cupcakes, Desserts                                  0.01910\n",
       "Spanish                                                    0.01840\n",
       "Sandwiches                                                 0.01565\n",
       "Chicken                                                    0.01265\n",
       "Other                                                      0.01140\n",
       "Asian                                                      0.00980\n",
       "Donuts                                                     0.00970\n",
       "Indian                                                     0.00965\n",
       "Korean                                                     0.00915\n",
       "Jewish/Kosher                                              0.00860\n",
       "Juice, Smoothies, Fruit Salads                             0.00795\n",
       "Thai                                                       0.00790\n",
       "Hamburgers                                                 0.00775\n",
       "French                                                     0.00735\n",
       "Mediterranean                                              0.00615\n",
       "Ice Cream, Gelato, Yogurt, Ices                            0.00555\n",
       "Irish                                                      0.00515\n",
       "Seafood                                                    0.00510\n",
       "Sandwiches/Salads/Mixed Buffet                             0.00480\n",
       "Middle Eastern                                             0.00465\n",
       "Greek                                                      0.00425\n",
       "Bagels/Pretzels                                            0.00370\n",
       "Vietnamese/Cambodian/Malaysia                              0.00290\n",
       "Tex-Mex                                                    0.00285\n",
       "Vegetarian                                                 0.00265\n",
       "Eastern European                                           0.00225\n",
       "African                                                    0.00225\n",
       "Bottled beverages, including water, sodas, juices, etc.    0.00215\n",
       "Steak                                                      0.00215\n",
       "Peruvian                                                   0.00205\n",
       "Salads                                                     0.00200\n",
       "Turkish                                                    0.00190\n",
       "Bangladeshi                                                0.00155\n",
       "Russian                                                    0.00150\n",
       "Soul Food                                                  0.00145\n",
       "Chinese/Japanese                                           0.00120\n",
       "Barbecue                                                   0.00110\n",
       "Pakistani                                                  0.00100\n",
       "Continental                                                0.00100\n",
       "Soups/Salads/Sandwiches                                    0.00095\n",
       "Hawaiian                                                   0.00095\n",
       "Filipino                                                   0.00090\n",
       "Tapas                                                      0.00090\n",
       "German                                                     0.00090\n",
       "Brazilian                                                  0.00080\n",
       "Creole                                                     0.00080\n",
       "Australian                                                 0.00060\n",
       "Armenian                                                   0.00055\n",
       "Polish                                                     0.00055\n",
       "English                                                    0.00050\n",
       "Hotdogs/Pretzels                                           0.00050\n",
       "Afghan                                                     0.00045\n",
       "Pancakes/Waffles                                           0.00040\n",
       "Hotdogs                                                    0.00040\n",
       "Chinese/Cuban                                              0.00040\n",
       "Ethiopian                                                  0.00035\n",
       "Portuguese                                                 0.00030\n",
       "Moroccan                                                   0.00030\n",
       "Creole/Cajun                                               0.00025\n",
       "Egyptian                                                   0.00025\n",
       "Soups                                                      0.00020\n",
       "Cajun                                                      0.00020\n",
       "Not Listed/Not Applicable                                  0.00020\n",
       "Indonesian                                                 0.00020\n",
       "Scandinavian                                               0.00015\n",
       "Californian                                                0.00015\n",
       "Czech                                                      0.00015\n",
       "Southwestern                                               0.00010\n",
       "Iranian                                                    0.00010\n",
       "Fruits/Vegetables                                          0.00010\n",
       "Nuts/Confectionary                                         0.00005\n",
       "Chilean                                                    0.00005\n",
       "Name: camis, dtype: float64"
      ]
     },
     "execution_count": 259,
     "metadata": {},
     "output_type": "execute_result"
    }
   ],
   "source": [
    "(restdata.groupby('cuisine_description')['camis'].nunique()/len(restdata.index)).sort_values(ascending = False)"
   ]
  },
  {
   "cell_type": "code",
   "execution_count": 20,
   "id": "breeding-socket",
   "metadata": {},
   "outputs": [
    {
     "data": {
      "text/plain": [
       "500"
      ]
     },
     "execution_count": 20,
     "metadata": {},
     "output_type": "execute_result"
    }
   ],
   "source": [
    "len(restdata.index)"
   ]
  },
  {
   "cell_type": "code",
   "execution_count": 265,
   "id": "acting-divorce",
   "metadata": {},
   "outputs": [],
   "source": [
    "def makewordsetdicts(dframe):\n",
    "    \n",
    "    vio_word_sd = dict()\n",
    "    cuis_word_sd = dict()\n",
    "    for a, f in zip(dframe['violation_description'], dframe['cuisine_description']):\n",
    "        b = a.translate(str.maketrans('', '', string.punctuation))\n",
    "        f = f.replace('Caribbean (Inc. Cuban, Puerto Rican)', 'CaribCubanPuertoRi').replace('Latin American (Central and South America)','LatinAmerican')\n",
    "        f = f.replace('Jewish/Kosher', 'JewishKosher').replace('Tex-Mex','TexMex')\n",
    "        f = f.replace('Eastern European', 'EasternEuropean').replace('Middle Eastern', 'MiddleEastern')\n",
    "        f = f.replace('Not Listed/Not Applicable', 'NotListed').replace('Soul Food','SoulFood')\n",
    "        f = f.replace('Bottled beverages, including water, sodas, juices, etc.', 'BottledBeverages')\n",
    "        g = f.replace('/',' ').translate(str.maketrans('', '', string.punctuation))\n",
    "        c = b.split(\" \")\n",
    "        h = g.split(\" \")\n",
    "        for d, i in zip(c, h):\n",
    "            if d.lower() in vio_word_sd:\n",
    "                vio_word_sd[d.lower()] += 1\n",
    "            else:\n",
    "                vio_word_sd[d.lower()] = 1\n",
    "            if i in cuis_word_sd:\n",
    "                cuis_word_sd[i] += 1\n",
    "            else:\n",
    "                cuis_word_sd[i] = 1\n",
    "            \n",
    "    #if 'Cuban' in cuis_word_sd:\n",
    "    #    cuis_word_sd['CaribCubanPuertoRi'] += cuisine_word_setDict['Cuban']\n",
    "    #    del cuis_word_sd['Cuban']            \n",
    "    return vio_word_sd, cuis_word_sd"
   ]
  },
  {
   "cell_type": "code",
   "execution_count": 271,
   "id": "robust-hartford",
   "metadata": {},
   "outputs": [],
   "source": [
    "def cleancubancuis(dct):\n",
    "    if 'Cuban' in dct:\n",
    "        dct['CaribCubanPuertoRi'] += dct['Cuban']\n",
    "        del dct['Cuban']  \n",
    "    return dct"
   ]
  },
  {
   "cell_type": "code",
   "execution_count": 269,
   "id": "ancient-chick",
   "metadata": {},
   "outputs": [],
   "source": [
    "violation_word_setDict, cuisine_word_setDict = makewordsetdicts(restdata)"
   ]
  },
  {
   "cell_type": "code",
   "execution_count": 274,
   "id": "laden-lawrence",
   "metadata": {},
   "outputs": [],
   "source": [
    "vio_word_sd_bky, cuis_word_sd_bky = makewordsetdicts(restdata[restdata['boro'] == 'Brooklyn'])\n",
    "vio_word_sd_qns, cuis_word_sd_qns = makewordsetdicts(restdata[restdata['boro'] == 'Queens'])\n",
    "vio_word_sd_mh, cuis_word_sd_mh = makewordsetdicts(restdata[restdata['boro'] == 'Manhattan'])\n",
    "vio_word_sd_brx, cuis_word_sd_brx = makewordsetdicts(restdata[restdata['boro'] == 'Bronx'])\n",
    "vio_word_sd_si, cuis_word_sd_si = makewordsetdicts(restdata[restdata['boro'] == 'Staten Island'])"
   ]
  },
  {
   "cell_type": "code",
   "execution_count": 275,
   "id": "together-paraguay",
   "metadata": {},
   "outputs": [],
   "source": [
    "cuis_word_sd_bky = cleancubancuis(cuis_word_sd_bky)\n",
    "cuis_word_sd_qns = cleancubancuis(vio_word_sd_qns)\n",
    "cuis_word_sd_mh = cleancubancuis(vio_word_sd_mh)\n",
    "cuis_word_sd_brx = cleancubancuis(vio_word_sd_brx)\n",
    "cuis_word_sd_si = cleancubancuis(vio_word_sd_si)"
   ]
  },
  {
   "cell_type": "code",
   "execution_count": 83,
   "id": "inside-alaska",
   "metadata": {},
   "outputs": [],
   "source": [
    "cuisinedf = pd.DataFrame.from_dict(cuisine_word_setDict, orient='index', dtype=None, columns=None)"
   ]
  },
  {
   "cell_type": "code",
   "execution_count": 84,
   "id": "varying-tradition",
   "metadata": {},
   "outputs": [],
   "source": [
    "cuisinedf = cuisinedf.rename(columns={0:'Count of Cuisine Type'})"
   ]
  },
  {
   "cell_type": "code",
   "execution_count": 85,
   "id": "enormous-camping",
   "metadata": {},
   "outputs": [],
   "source": [
    "cuisinedf.sort_values(by='Count of Cuisine Type', axis=0, ascending=False, inplace=True, kind='quicksort')"
   ]
  },
  {
   "cell_type": "code",
   "execution_count": 88,
   "id": "challenging-bouquet",
   "metadata": {},
   "outputs": [],
   "source": [
    "def plot_bar(data, sx, sy, lr, xl, yl):\n",
    "    # Makes a bar plot from data with x and y size, label rotation, x and y labels.\n",
    "    plt.figure(figsize=(sx,sy))\n",
    "    data.plot.bar()\n",
    "    plt.xticks(rotation=lr)\n",
    "    plt.xlabel(xl)\n",
    "    plt.ylabel(yl)\n",
    "    plt.show()"
   ]
  },
  {
   "cell_type": "code",
   "execution_count": 89,
   "id": "plastic-joining",
   "metadata": {},
   "outputs": [
    {
     "data": {
      "image/png": "[encoded data removed]",
      "text/plain": [
       "<Figure size 2160x504 with 1 Axes>"
      ]
     },
     "metadata": {
      "needs_background": "light"
     },
     "output_type": "display_data"
    }
   ],
   "source": [
    "plot_bar(cuisinedf['Count of Cuisine Type'], 30, 7, 60, \"Cuisine Type\", \"Count of Restaurant\")"
   ]
  },
  {
   "cell_type": "code",
   "execution_count": null,
   "id": "second-antigua",
   "metadata": {},
   "outputs": [],
   "source": [
    "text = df.description[0]\n",
    "\n",
    "# Create and generate a word cloud image:\n",
    "wordcloud = WordCloud().generate(text)\n",
    "\n",
    "# Display the generated image:\n",
    "plt.imshow(wordcloud, interpolation='bilinear')\n",
    "plt.axis(\"off\")\n",
    "plt.show()"
   ]
  },
  {
   "cell_type": "code",
   "execution_count": 96,
   "id": "equivalent-organization",
   "metadata": {},
   "outputs": [],
   "source": [
    "def dic_count_to_freq(dct):\n",
    "    total = 0\n",
    "    for v in dct.values():\n",
    "        total += v\n",
    "    for a, b in dct.items():\n",
    "        dct[a] = b/total        \n",
    "    return dct"
   ]
  },
  {
   "cell_type": "code",
   "execution_count": null,
   "id": "classified-philosophy",
   "metadata": {},
   "outputs": [],
   "source": [
    "# dic_count_to_freq(dct)"
   ]
  },
  {
   "cell_type": "code",
   "execution_count": 147,
   "id": "velvet-balloon",
   "metadata": {},
   "outputs": [],
   "source": [
    "def bas_word_cloud_fr_ct_dic(dct, exc):\n",
    "    #Makes a basic word cloud from a dictionary of counts. Optionally exclude a list of words. ############################################################################################################\n",
    "    if len(exc)> 0:\n",
    "        plt.imshow(WordCloud(background_color=\"white\",width=1000,height=1000, stopwords=STOPWORDS | exc, relative_scaling=0.5).generate_from_frequencies(dct))\n",
    "    else:\n",
    "        plt.imshow(WordCloud(background_color=\"white\",width=1000,height=1000, stopwords=STOPWORDS, relative_scaling=0.5).generate_from_frequencies(dct))"
   ]
  },
  {
   "cell_type": "code",
   "execution_count": 110,
   "id": "optimum-groove",
   "metadata": {},
   "outputs": [
    {
     "data": {
      "text/plain": [
       "{'a',\n",
       " 'about',\n",
       " 'above',\n",
       " 'after',\n",
       " 'again',\n",
       " 'against',\n",
       " 'all',\n",
       " 'also',\n",
       " 'am',\n",
       " 'an',\n",
       " 'and',\n",
       " 'any',\n",
       " 'are',\n",
       " \"aren't\",\n",
       " 'as',\n",
       " 'at',\n",
       " 'be',\n",
       " 'because',\n",
       " 'been',\n",
       " 'before',\n",
       " 'being',\n",
       " 'below',\n",
       " 'between',\n",
       " 'both',\n",
       " 'but',\n",
       " 'by',\n",
       " 'can',\n",
       " \"can't\",\n",
       " 'cannot',\n",
       " 'com',\n",
       " 'could',\n",
       " \"couldn't\",\n",
       " 'did',\n",
       " \"didn't\",\n",
       " 'do',\n",
       " 'does',\n",
       " \"doesn't\",\n",
       " 'doing',\n",
       " \"don't\",\n",
       " 'down',\n",
       " 'during',\n",
       " 'each',\n",
       " 'else',\n",
       " 'ever',\n",
       " 'few',\n",
       " 'for',\n",
       " 'from',\n",
       " 'further',\n",
       " 'get',\n",
       " 'had',\n",
       " \"hadn't\",\n",
       " 'has',\n",
       " \"hasn't\",\n",
       " 'have',\n",
       " \"haven't\",\n",
       " 'having',\n",
       " 'he',\n",
       " \"he'd\",\n",
       " \"he'll\",\n",
       " \"he's\",\n",
       " 'hence',\n",
       " 'her',\n",
       " 'here',\n",
       " \"here's\",\n",
       " 'hers',\n",
       " 'herself',\n",
       " 'him',\n",
       " 'himself',\n",
       " 'his',\n",
       " 'how',\n",
       " \"how's\",\n",
       " 'however',\n",
       " 'http',\n",
       " 'i',\n",
       " \"i'd\",\n",
       " \"i'll\",\n",
       " \"i'm\",\n",
       " \"i've\",\n",
       " 'if',\n",
       " 'in',\n",
       " 'into',\n",
       " 'is',\n",
       " \"isn't\",\n",
       " 'it',\n",
       " \"it's\",\n",
       " 'its',\n",
       " 'itself',\n",
       " 'just',\n",
       " 'k',\n",
       " \"let's\",\n",
       " 'like',\n",
       " 'me',\n",
       " 'more',\n",
       " 'most',\n",
       " \"mustn't\",\n",
       " 'my',\n",
       " 'myself',\n",
       " 'no',\n",
       " 'nor',\n",
       " 'not',\n",
       " 'of',\n",
       " 'off',\n",
       " 'on',\n",
       " 'once',\n",
       " 'only',\n",
       " 'or',\n",
       " 'other',\n",
       " 'otherwise',\n",
       " 'ought',\n",
       " 'our',\n",
       " 'ours',\n",
       " 'ourselves',\n",
       " 'out',\n",
       " 'over',\n",
       " 'own',\n",
       " 'r',\n",
       " 'same',\n",
       " 'shall',\n",
       " \"shan't\",\n",
       " 'she',\n",
       " \"she'd\",\n",
       " \"she'll\",\n",
       " \"she's\",\n",
       " 'should',\n",
       " \"shouldn't\",\n",
       " 'since',\n",
       " 'so',\n",
       " 'some',\n",
       " 'such',\n",
       " 'than',\n",
       " 'that',\n",
       " \"that's\",\n",
       " 'the',\n",
       " 'their',\n",
       " 'theirs',\n",
       " 'them',\n",
       " 'themselves',\n",
       " 'then',\n",
       " 'there',\n",
       " \"there's\",\n",
       " 'therefore',\n",
       " 'these',\n",
       " 'they',\n",
       " \"they'd\",\n",
       " \"they'll\",\n",
       " \"they're\",\n",
       " \"they've\",\n",
       " 'this',\n",
       " 'those',\n",
       " 'through',\n",
       " 'to',\n",
       " 'too',\n",
       " 'under',\n",
       " 'until',\n",
       " 'up',\n",
       " 'very',\n",
       " 'was',\n",
       " \"wasn't\",\n",
       " 'we',\n",
       " \"we'd\",\n",
       " \"we'll\",\n",
       " \"we're\",\n",
       " \"we've\",\n",
       " 'were',\n",
       " \"weren't\",\n",
       " 'what',\n",
       " \"what's\",\n",
       " 'when',\n",
       " \"when's\",\n",
       " 'where',\n",
       " \"where's\",\n",
       " 'which',\n",
       " 'while',\n",
       " 'who',\n",
       " \"who's\",\n",
       " 'whom',\n",
       " 'why',\n",
       " \"why's\",\n",
       " 'with',\n",
       " \"won't\",\n",
       " 'would',\n",
       " \"wouldn't\",\n",
       " 'www',\n",
       " 'you',\n",
       " \"you'd\",\n",
       " \"you'll\",\n",
       " \"you're\",\n",
       " \"you've\",\n",
       " 'your',\n",
       " 'yours',\n",
       " 'yourself',\n",
       " 'yourselves'}"
      ]
     },
     "execution_count": 110,
     "metadata": {},
     "output_type": "execute_result"
    }
   ],
   "source": [
    "STOPWORDS"
   ]
  },
  {
   "cell_type": "code",
   "execution_count": 104,
   "id": "significant-seller",
   "metadata": {},
   "outputs": [
    {
     "data": {
      "image/png": "[encoded data removed]",
      "text/plain": [
       "<Figure size 432x288 with 1 Axes>"
      ]
     },
     "metadata": {
      "needs_background": "light"
     },
     "output_type": "display_data"
    }
   ],
   "source": [
    "bas_word_cloud_fr_ct_dic(cuisine_word_setDict)"
   ]
  },
  {
   "cell_type": "code",
   "execution_count": null,
   "id": "pregnant-research",
   "metadata": {},
   "outputs": [],
   "source": [
    "excList = ['Food', 'food', 'Evidence', 'Nonfood']\n",
    "for i in excList:\n",
    "    if i in violation_word_setDict:\n",
    "        del violation_word_setDict[i]"
   ]
  },
  {
   "cell_type": "code",
   "execution_count": null,
   "id": "rational-reserve",
   "metadata": {},
   "outputs": [],
   "source": []
  },
  {
   "cell_type": "code",
   "execution_count": 148,
   "id": "corrected-metropolitan",
   "metadata": {},
   "outputs": [
    {
     "data": {
      "image/png": "[encoded data removed]",
      "text/plain": [
       "<Figure size 432x288 with 1 Axes>"
      ]
     },
     "metadata": {
      "needs_background": "light"
     },
     "output_type": "display_data"
    }
   ],
   "source": [
    "violation_exclude_words = {'food', 'evidence', 'nonfood'}\n",
    "bas_word_cloud_fr_ct_dic(dct=violation_word_setDict, exc=violation_exclude_words)"
   ]
  },
  {
   "cell_type": "code",
   "execution_count": 179,
   "id": "global-restoration",
   "metadata": {},
   "outputs": [
    {
     "data": {
      "text/plain": [
       "pandas.core.series.Series"
      ]
     },
     "execution_count": 179,
     "metadata": {},
     "output_type": "execute_result"
    }
   ],
   "source": [
    "type(restdata[restdata['grade']=='A']['score'].value_counts())"
   ]
  },
  {
   "cell_type": "code",
   "execution_count": 181,
   "id": "desirable-neighbor",
   "metadata": {},
   "outputs": [
    {
     "data": {
      "text/plain": [
       "12    1862\n",
       "13    1473\n",
       "10     956\n",
       "11     918\n",
       "9      876\n",
       "7      636\n",
       "8      329\n",
       "5      278\n",
       "4      194\n",
       "2      183\n",
       "6      119\n",
       "3       95\n",
       "0       28\n",
       "17       1\n",
       "Name: score, dtype: int64"
      ]
     },
     "execution_count": 181,
     "metadata": {},
     "output_type": "execute_result"
    }
   ],
   "source": [
    "restdata[restdata['grade']=='A']['score'].value_counts()"
   ]
  },
  {
   "cell_type": "code",
   "execution_count": 184,
   "id": "front-decision",
   "metadata": {},
   "outputs": [
    {
     "data": {
      "text/plain": [
       "<AxesSubplot:>"
      ]
     },
     "execution_count": 184,
     "metadata": {},
     "output_type": "execute_result"
    },
    {
     "data": {
      "image/png": "[encoded data removed]",
      "text/plain": [
       "<Figure size 432x288 with 1 Axes>"
      ]
     },
     "metadata": {
      "needs_background": "light"
     },
     "output_type": "display_data"
    }
   ],
   "source": [
    "restdata[restdata['grade']=='A']['score'].sort_values().hist()"
   ]
  },
  {
   "cell_type": "code",
   "execution_count": 186,
   "id": "trying-portrait",
   "metadata": {},
   "outputs": [
    {
     "name": "stdout",
     "output_type": "stream",
     "text": [
      "<class 'pandas.core.frame.DataFrame'>\n",
      "RangeIndex: 20000 entries, 0 to 19999\n",
      "Data columns (total 26 columns):\n",
      " #   Column                 Non-Null Count  Dtype \n",
      "---  ------                 --------------  ----- \n",
      " 0   camis                  20000 non-null  object\n",
      " 1   dba                    19967 non-null  object\n",
      " 2   boro                   20000 non-null  object\n",
      " 3   building               19962 non-null  object\n",
      " 4   street                 20000 non-null  object\n",
      " 5   zipcode                19677 non-null  object\n",
      " 6   phone                  19999 non-null  object\n",
      " 7   cuisine_description    20000 non-null  object\n",
      " 8   inspection_date        20000 non-null  object\n",
      " 9   action                 19807 non-null  object\n",
      " 10  violation_code         19581 non-null  object\n",
      " 11  violation_description  19416 non-null  object\n",
      " 12  critical_flag          19416 non-null  object\n",
      " 13  score                  19051 non-null  object\n",
      " 14  grade                  10099 non-null  object\n",
      " 15  grade_date             9993 non-null   object\n",
      " 16  record_date            20000 non-null  object\n",
      " 17  inspection_type        19807 non-null  object\n",
      " 18  latitude               19933 non-null  object\n",
      " 19  longitude              19933 non-null  object\n",
      " 20  community_board        19611 non-null  object\n",
      " 21  council_district       19611 non-null  object\n",
      " 22  census_tract           19611 non-null  object\n",
      " 23  bin                    19506 non-null  object\n",
      " 24  bbl                    19933 non-null  object\n",
      " 25  nta                    19611 non-null  object\n",
      "dtypes: object(26)\n",
      "memory usage: 4.0+ MB\n"
     ]
    }
   ],
   "source": [
    "restdata.info()"
   ]
  },
  {
   "cell_type": "code",
   "execution_count": 202,
   "id": "catholic-breed",
   "metadata": {},
   "outputs": [
    {
     "data": {
      "text/plain": [
       "<AxesSubplot:>"
      ]
     },
     "execution_count": 202,
     "metadata": {},
     "output_type": "execute_result"
    },
    {
     "data": {
      "image/png": "[encoded data removed]",
      "text/plain": [
       "<Figure size 432x288 with 1 Axes>"
      ]
     },
     "metadata": {
      "needs_background": "light"
     },
     "output_type": "display_data"
    }
   ],
   "source": [
    "restdata[restdata['score'].notna()]['score'].astype(int).sort_values().hist()"
   ]
  },
  {
   "cell_type": "code",
   "execution_count": 205,
   "id": "complimentary-mozambique",
   "metadata": {},
   "outputs": [],
   "source": [
    "bkscores = restdata[((restdata['score'].notna()) & (restdata['boro'] == 'Brooklyn'))]['score'].astype(int).sort_values()"
   ]
  },
  {
   "cell_type": "code",
   "execution_count": 206,
   "id": "correct-carrier",
   "metadata": {},
   "outputs": [],
   "source": [
    "qnscores = restdata[((restdata['score'].notna()) & (restdata['boro'] == 'Queens'))]['score'].astype(int).sort_values()"
   ]
  },
  {
   "cell_type": "code",
   "execution_count": 210,
   "id": "auburn-estonia",
   "metadata": {},
   "outputs": [
    {
     "data": {
      "text/plain": [
       "MannwhitneyuResult(statistic=10179551.5, pvalue=0.028461953499360013)"
      ]
     },
     "execution_count": 210,
     "metadata": {},
     "output_type": "execute_result"
    }
   ],
   "source": [
    "stats.mannwhitneyu(bkscores, qnscores, use_continuity=True, alternative=None)"
   ]
  },
  {
   "cell_type": "code",
   "execution_count": 213,
   "id": "sixth-honduras",
   "metadata": {},
   "outputs": [
    {
     "data": {
      "text/plain": [
       "KruskalResult(statistic=3.624829946151356, pvalue=0.05692338919576767)"
      ]
     },
     "execution_count": 213,
     "metadata": {},
     "output_type": "execute_result"
    }
   ],
   "source": [
    "scipy.stats.kruskal(bkscores, qnscores, nan_policy='omit')"
   ]
  },
  {
   "cell_type": "code",
   "execution_count": null,
   "id": "smoking-supplier",
   "metadata": {},
   "outputs": [],
   "source": [
    "bkscores = restdata[((restdata['score'].notna()) & (restdata['boro'] == 'Brooklyn'))]['score'].astype(int).sort_values()"
   ]
  },
  {
   "cell_type": "code",
   "execution_count": 232,
   "id": "considerable-village",
   "metadata": {},
   "outputs": [
    {
     "data": {
      "text/plain": [
       "Power_divergenceResult(statistic=5042.013632718525, pvalue=0.0)"
      ]
     },
     "execution_count": 232,
     "metadata": {},
     "output_type": "execute_result"
    }
   ],
   "source": [
    "stats.chisquare(restdata.groupby('boro')['camis'].nunique().drop(labels='0'), f_exp=None, ddof=0, axis=0)"
   ]
  },
  {
   "cell_type": "code",
   "execution_count": 233,
   "id": "limiting-hometown",
   "metadata": {},
   "outputs": [
    {
     "data": {
      "text/plain": [
       "Power_divergenceResult(statistic=9905.7329216273, pvalue=0.0)"
      ]
     },
     "execution_count": 233,
     "metadata": {},
     "output_type": "execute_result"
    }
   ],
   "source": [
    "stats.chisquare(restdata.groupby('gradeval')['camis'].nunique(), f_exp=None, ddof=0, axis=0)"
   ]
  },
  {
   "cell_type": "code",
   "execution_count": 236,
   "id": "great-consequence",
   "metadata": {},
   "outputs": [
    {
     "data": {
      "text/plain": [
       "<AxesSubplot:xlabel='boro'>"
      ]
     },
     "execution_count": 236,
     "metadata": {},
     "output_type": "execute_result"
    },
    {
     "data": {
      "image/png": "[encoded data removed]",
      "text/plain": [
       "<Figure size 432x288 with 1 Axes>"
      ]
     },
     "metadata": {
      "needs_background": "light"
     },
     "output_type": "display_data"
    }
   ],
   "source": [
    "restdata.groupby('boro')['camis'].nunique().drop(labels='0').plot.bar(rot=60)"
   ]
  }
 ],
 "metadata": {
  "kernelspec": {
   "display_name": "Python 3",
   "language": "python",
   "name": "python3"
  },
  "language_info": {
   "codemirror_mode": {
    "name": "ipython",
    "version": 3
   },
   "file_extension": ".py",
   "mimetype": "text/x-python",
   "name": "python",
   "nbconvert_exporter": "python",
   "pygments_lexer": "ipython3",
   "version": "3.7.6"
  }
 },
 "nbformat": 4,
 "nbformat_minor": 5
}
